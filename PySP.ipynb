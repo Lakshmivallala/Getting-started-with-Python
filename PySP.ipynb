{
 "cells": [
  {
   "cell_type": "markdown",
   "metadata": {},
   "source": [
    "1. Arithmetic operators\n",
    "2. Assignment operators\n",
    "3. Comparison operators\n",
    "4. Logical operators\n",
    "5. Identity operators\n",
    "6. Membership operators\n",
    "7. Bitwise operators"
   ]
  },
  {
   "cell_type": "code",
   "execution_count": null,
   "metadata": {
    "scrolled": true
   },
   "outputs": [],
   "source": [
    "#Arithmetic operators\n",
    "x = 4\n",
    "y = 5\n",
    "print(x + y)\n",
    "print(x - y)\n",
    "print(x * y)\n",
    "print(x / y)\n",
    "\n",
    "print(x % y)\n",
    "print(x ** y)\n",
    "print(x // y) #floor division"
   ]
  },
  {
   "cell_type": "code",
   "execution_count": null,
   "metadata": {
    "scrolled": true
   },
   "outputs": [],
   "source": [
    "x=10\n",
    "y=3\n",
    "print(x/y)\n",
    "print(x//y)"
   ]
  },
  {
   "cell_type": "code",
   "execution_count": null,
   "metadata": {
    "scrolled": false
   },
   "outputs": [],
   "source": [
    "#Assignment operators\n",
    "x = 5\n",
    "x += 3\n",
    "print(x) #5+3=8\n",
    "x -= 3\n",
    "print(x) #8-3=5\n",
    "x *= 3\n",
    "print(x) #5*3=15\n",
    "x /= 3\n",
    "print(x) #15/3=5.0\n",
    "x %= 3\n",
    "print(x) #5.0%3=2.0"
   ]
  },
  {
   "cell_type": "code",
   "execution_count": null,
   "metadata": {},
   "outputs": [],
   "source": [
    "x=10\n",
    "x //= 3 \n",
    "print(x) #10//3=3\n",
    "x **= 3\n",
    "print(x) #3**3=27"
   ]
  },
  {
   "cell_type": "code",
   "execution_count": null,
   "metadata": {},
   "outputs": [],
   "source": [
    "print(15/3)\n",
    "print(15//3)\n",
    "print(2.0**3)"
   ]
  },
  {
   "cell_type": "code",
   "execution_count": null,
   "metadata": {},
   "outputs": [],
   "source": [
    "x=34\n",
    "x &= 3\n",
    "print(x)\n",
    "x |= 3\n",
    "print(x)\n",
    "x ^= 3\n",
    "print(x)\n",
    "x >>= 3\n",
    "print(x)\n",
    "x <<=3\n",
    "print(x)"
   ]
  },
  {
   "cell_type": "code",
   "execution_count": null,
   "metadata": {},
   "outputs": [],
   "source": [
    "#Comparison operators\n",
    "x=9\n",
    "y=5\n",
    "print(x == y)\n",
    "print(x != y)\n",
    "print(x > y)\n",
    "print(x < y)\n",
    "print(x >= y)\n",
    "print(x <= y)"
   ]
  },
  {
   "cell_type": "code",
   "execution_count": null,
   "metadata": {
    "scrolled": true
   },
   "outputs": [],
   "source": [
    "# Logical Operators\n",
    "#AND-\n",
    "#00 - 0\n",
    "#01 - 0\n",
    "#10 - 0\n",
    "#11 - 1\n",
    "x = 20\n",
    "print(x < 6 and x > 25)\n",
    "print(x < 6 and x < 25)\n",
    "print(x > 6 and x > 25)\n",
    "print(x > 6 and x < 25)\n",
    " #HOMEWORK- TRY or AND not\n",
    "print(not(x > 6 and x < 25))"
   ]
  },
  {
   "cell_type": "code",
   "execution_count": null,
   "metadata": {},
   "outputs": [],
   "source": [
    "#Identity operators - is and not is\n",
    "x = 4\n",
    "y = 7\n",
    "z = x\n",
    "print(x is z)\n",
    "print(x is not y)\n",
    "print(x == y)\n",
    "\n",
    "x = 4\n",
    "y = 4\n",
    "z = x\n",
    "print(x is z)\n",
    "print(x is y)\n",
    "print(x == y)"
   ]
  },
  {
   "cell_type": "code",
   "execution_count": null,
   "metadata": {},
   "outputs": [],
   "source": [
    "# Membership operators(after lists) -> in/not in"
   ]
  },
  {
   "cell_type": "code",
   "execution_count": null,
   "metadata": {
    "scrolled": true
   },
   "outputs": [],
   "source": [
    "#Bitwise operators\n",
    "x=5\n",
    "y=6\n",
    "print(x&y) #and\n",
    "print(x|y) #or\n",
    "print(x^y) #xor\n",
    "print(~x,~y) #not\n",
    "print(x<<y) #left shift\n",
    "print(x>>y) #right shift"
   ]
  },
  {
   "cell_type": "code",
   "execution_count": null,
   "metadata": {},
   "outputs": [],
   "source": [
    "x=10\n",
    "y=7\n",
    "print(x&y)"
   ]
  },
  {
   "cell_type": "markdown",
   "metadata": {},
   "source": [
    "## Boolean"
   ]
  },
  {
   "cell_type": "code",
   "execution_count": null,
   "metadata": {},
   "outputs": [],
   "source": [
    "print(10 > 9)\n",
    "print(type(10 > 9))"
   ]
  },
  {
   "cell_type": "code",
   "execution_count": null,
   "metadata": {},
   "outputs": [],
   "source": [
    "print(bool(\"Hello\"))\n",
    "print(bool(-15))\n",
    "\n",
    "print(bool(\"a\"))\n",
    "print(bool(1))\n",
    "\n",
    "print(bool(\"\"))\n",
    "print(bool(0))\n",
    "\n",
    "s=\"h\"\n",
    "y=0\n",
    "print(bool(s))\n",
    "print(bool(y))"
   ]
  },
  {
   "cell_type": "code",
   "execution_count": null,
   "metadata": {},
   "outputs": [],
   "source": [
    "print(bool(1))\n",
    "print(bool(0))"
   ]
  },
  {
   "cell_type": "markdown",
   "metadata": {},
   "source": [
    "The print has been removed from Python 2 as keyword and included as built-in function."
   ]
  },
  {
   "cell_type": "markdown",
   "metadata": {},
   "source": [
    "1. A variable name must start with a letter or the underscore character\n",
    "2. A variable name cannot start with a number\n",
    "3. A variable name can only contain alpha-numeric characters and underscores (A-z, 0-9, and _ )\n",
    "4. Variable names are case-sensitive (age, Age and AGE are three different variables)\n",
    "5. Variable names cannot contain keywords"
   ]
  },
  {
   "cell_type": "code",
   "execution_count": null,
   "metadata": {},
   "outputs": [],
   "source": [
    "import keyword\n",
    "keyword.kwlist"
   ]
  },
  {
   "cell_type": "markdown",
   "metadata": {},
   "source": [
    "myvar = \"John\"\n",
    "\n",
    "my_var = \"John\"\n",
    "\n",
    "_my_var = \"John\"\n",
    "\n",
    "myVar = \"John\"\n",
    "\n",
    "MYVAR = \"John\"\n",
    "\n",
    "myvar2 = \"John\"\n",
    "\n",
    "76trombones = \"big parade\"\n",
    "\n",
    "more$ = 1000000\n",
    "\n",
    "class = \"Computer Science 101\""
   ]
  },
  {
   "cell_type": "markdown",
   "metadata": {},
   "source": [
    "Markup language- writing standard, similar to Hypertext Markup Language(HTML)\n",
    "# heading 1\n",
    "## heading 2\n",
    "### heading 3\n",
    "#### heading 4\n",
    "##### heading 5\n",
    "###### heading 6\n",
    "\n",
    "<blockquote> This is a blockquote- <br><hr> indented large text </blockquote>\n",
    "\n",
    "> This is also a blockquote"
   ]
  },
  {
   "cell_type": "markdown",
   "metadata": {},
   "source": [
    "$\\sqrt{5}$"
   ]
  },
  {
   "cell_type": "markdown",
   "metadata": {},
   "source": [
    "**Bold**\n",
    "__Bold__\n",
    "<b>bold</b>\n",
    "\n",
    "*Italic*\n",
    "_Italic_\n",
    "<i>Italic</i>"
   ]
  },
  {
   "cell_type": "markdown",
   "metadata": {},
   "source": [
    "<ul>\n",
    "<li>a</li>\n",
    "<li>b</li>\n",
    "<li>c</li>\n",
    "</ul>\n",
    "\n",
    "<ol>\n",
    "<li>a</li>\n",
    "<li>b</li>\n",
    "<li>c</li>\n",
    "</ol>"
   ]
  },
  {
   "cell_type": "markdown",
   "metadata": {},
   "source": [
    "### Type Casting"
   ]
  },
  {
   "cell_type": "code",
   "execution_count": null,
   "metadata": {},
   "outputs": [],
   "source": [
    "x = 5    \n",
    "print(x)\n",
    "x = \"String\" \n",
    "print(x)"
   ]
  },
  {
   "cell_type": "code",
   "execution_count": null,
   "metadata": {},
   "outputs": [],
   "source": [
    "print(x,type(x))\n",
    "x = int(3) \n",
    "print(x,type(x))\n",
    "\n",
    "y = int(3)   \n",
    "z = float(3)  \n",
    "print(x,y,z)"
   ]
  },
  {
   "cell_type": "code",
   "execution_count": null,
   "metadata": {},
   "outputs": [],
   "source": [
    "x = \"A\"\n",
    "y = 'B'\n",
    "print(x,y,type(x),type(y))"
   ]
  },
  {
   "cell_type": "code",
   "execution_count": null,
   "metadata": {
    "scrolled": true
   },
   "outputs": [],
   "source": [
    "a = '''Lorem ipsum dolor sit amet,\n",
    "consectetur adipiscing elit,\n",
    "sed do eiusmod tempor incididunt\n",
    "ut labore et dolore magna aliqua.'''\n",
    "print(a)"
   ]
  },
  {
   "cell_type": "code",
   "execution_count": null,
   "metadata": {
    "scrolled": true
   },
   "outputs": [],
   "source": [
    "a=\"A\"\n",
    "A =\"B\"\n",
    "print(a,A)"
   ]
  },
  {
   "cell_type": "code",
   "execution_count": null,
   "metadata": {
    "scrolled": true
   },
   "outputs": [],
   "source": [
    "a='A'\n",
    "A ='ABC'\n",
    "print(a,A)"
   ]
  },
  {
   "cell_type": "markdown",
   "metadata": {},
   "source": [
    "Python floats are usually the equivalent of C doubles, and if the integer is too large, int() will cast it to a long int."
   ]
  },
  {
   "cell_type": "markdown",
   "metadata": {},
   "source": [
    "### Input-Output"
   ]
  },
  {
   "cell_type": "code",
   "execution_count": null,
   "metadata": {},
   "outputs": [],
   "source": [
    "print(\"Enter your name:\")\n",
    "x = input()\n",
    "print(\"Hello, \" + x)"
   ]
  },
  {
   "cell_type": "code",
   "execution_count": null,
   "metadata": {},
   "outputs": [],
   "source": [
    "num = input (\"Enter number :\") \n",
    "print(num) \n",
    "name = input(\"Enter name : \") \n",
    "print(name) \n",
    "\n",
    "print (\"type of number\", type(num)) \n",
    "print (\"type of name\", type(name)) "
   ]
  },
  {
   "cell_type": "code",
   "execution_count": null,
   "metadata": {},
   "outputs": [],
   "source": [
    "num = int(input (\"Enter number :\"))\n",
    "print(num) \n",
    "name = input(\"Enter name : \") \n",
    "print(name) \n",
    "\n",
    "print (\"type of number\", type(num)) \n",
    "print (\"type of name\", type(name)) "
   ]
  },
  {
   "cell_type": "code",
   "execution_count": null,
   "metadata": {},
   "outputs": [],
   "source": [
    "num1 = int(input (\"Enter number :\"))\n",
    "print(num1) \n",
    "\n",
    "num2 = float(input (\"Enter number :\"))\n",
    "print(num2) \n"
   ]
  },
  {
   "cell_type": "markdown",
   "metadata": {},
   "source": [
    "#### WORKING WITH STRINGS"
   ]
  },
  {
   "cell_type": "code",
   "execution_count": null,
   "metadata": {},
   "outputs": [],
   "source": [
    "x, y, z = \"Orange\", \"Banana\", \"Cherry\"\n",
    "print(x)\n",
    "print(y)\n",
    "print(z)"
   ]
  },
  {
   "cell_type": "code",
   "execution_count": null,
   "metadata": {
    "scrolled": true
   },
   "outputs": [],
   "source": [
    "x= y= z = \"Orange\"\n",
    "print(x)\n",
    "print(y)\n",
    "print(z)"
   ]
  },
  {
   "cell_type": "code",
   "execution_count": null,
   "metadata": {},
   "outputs": [],
   "source": [
    "b=\"hello world\"\n",
    "b"
   ]
  },
  {
   "cell_type": "markdown",
   "metadata": {},
   "source": [
    "### Square brackets can be used to access elements of the string."
   ]
  },
  {
   "cell_type": "markdown",
   "metadata": {},
   "source": [
    "### Return a range of characters by using the slice syntax\n",
    "\n",
    "\n",
    " > string_name[start index:end index] - returns a part of the string.\n"
   ]
  },
  {
   "cell_type": "code",
   "execution_count": null,
   "metadata": {},
   "outputs": [],
   "source": [
    "b[0] #Get the character at position 0"
   ]
  },
  {
   "cell_type": "code",
   "execution_count": null,
   "metadata": {
    "scrolled": true
   },
   "outputs": [],
   "source": [
    "print(b[0],b[4],b[-1])"
   ]
  },
  {
   "cell_type": "code",
   "execution_count": null,
   "metadata": {},
   "outputs": [],
   "source": [
    "b = \"Hello, World!\"\n",
    "print(b[2:5])"
   ]
  },
  {
   "cell_type": "code",
   "execution_count": null,
   "metadata": {
    "scrolled": true
   },
   "outputs": [],
   "source": [
    "b = \"Hello, World!\"\n",
    "print(b[3:8])"
   ]
  },
  {
   "cell_type": "code",
   "execution_count": null,
   "metadata": {},
   "outputs": [],
   "source": [
    "b = \"Hello, World!\"\n",
    "print(b[:5])"
   ]
  },
  {
   "cell_type": "code",
   "execution_count": null,
   "metadata": {},
   "outputs": [],
   "source": [
    "b = \"Hello, World!\"\n",
    "print(b[3:])"
   ]
  },
  {
   "cell_type": "code",
   "execution_count": null,
   "metadata": {},
   "outputs": [],
   "source": [
    "b = \"Hello, World!\"\n",
    "print(b[-1])"
   ]
  },
  {
   "cell_type": "code",
   "execution_count": null,
   "metadata": {},
   "outputs": [],
   "source": [
    "b = \"Hello, World!\"\n",
    "print(b[::2])"
   ]
  },
  {
   "cell_type": "code",
   "execution_count": null,
   "metadata": {},
   "outputs": [],
   "source": [
    "b = \"Hello, World!\"\n",
    "print(b[-5:-2])"
   ]
  },
  {
   "cell_type": "code",
   "execution_count": null,
   "metadata": {},
   "outputs": [],
   "source": [
    "print(len(b))"
   ]
  },
  {
   "cell_type": "code",
   "execution_count": null,
   "metadata": {},
   "outputs": [],
   "source": [
    "b = \"Hello, World!\"\n",
    "print(b.lower())"
   ]
  },
  {
   "cell_type": "code",
   "execution_count": null,
   "metadata": {},
   "outputs": [],
   "source": [
    "b = \"Hello, World!\"\n",
    "print(b.upper())"
   ]
  },
  {
   "cell_type": "code",
   "execution_count": null,
   "metadata": {},
   "outputs": [],
   "source": [
    "b = \"Hello, World!\"\n",
    "print(b.isupper())"
   ]
  },
  {
   "cell_type": "code",
   "execution_count": null,
   "metadata": {},
   "outputs": [],
   "source": [
    "b=\"Value is positive\"\n",
    "print(b.index(\"s\"))\n",
    "print(b.index(\"z\"))"
   ]
  },
  {
   "cell_type": "code",
   "execution_count": null,
   "metadata": {},
   "outputs": [],
   "source": [
    "a = \"    Hello    ,      World!        \"\n",
    "print(a.strip()) # removes white spaces from beginning and ending of string"
   ]
  },
  {
   "cell_type": "code",
   "execution_count": null,
   "metadata": {},
   "outputs": [],
   "source": [
    "a = \" Hello , World!\"\n",
    "print(a.split(\"o\")) "
   ]
  },
  {
   "cell_type": "code",
   "execution_count": null,
   "metadata": {},
   "outputs": [],
   "source": [
    "b\n",
    "b.upper()"
   ]
  },
  {
   "cell_type": "code",
   "execution_count": null,
   "metadata": {},
   "outputs": [],
   "source": [
    "b=b.upper()\n",
    "b"
   ]
  },
  {
   "cell_type": "code",
   "execution_count": null,
   "metadata": {},
   "outputs": [],
   "source": [
    "print(a.replace(\"H\", \"J\"))"
   ]
  },
  {
   "cell_type": "code",
   "execution_count": null,
   "metadata": {},
   "outputs": [],
   "source": [
    "print(len(b))"
   ]
  },
  {
   "cell_type": "code",
   "execution_count": null,
   "metadata": {},
   "outputs": [],
   "source": [
    "print(b[::-1])"
   ]
  },
  {
   "cell_type": "code",
   "execution_count": null,
   "metadata": {},
   "outputs": [],
   "source": [
    "#MULTILINE STRINGS\n",
    "#ERROR\n",
    "# a=\"Lorem ipsum dolor sit amet,\n",
    "# consectetur adipiscing elit,\n",
    "# sed do eiusmod tempor incididunt\n",
    "# ut labore et dolore magna aliqua.\"\n",
    "\n",
    "b='''Lorem ipsum dolor sit amet,\n",
    "consectetur adipiscing elit,\n",
    "sed do eiusmod tempor incididunt\n",
    "ut labore et dolore magna aliqua.'''\n",
    "\n",
    "print(b,\"\\n\")\n",
    "    print(\"\\n\")\n",
    "\n",
    "c=\"\"\"Lorem ipsum dolor sit amet,\n",
    "consectetur adipiscing elit,\n",
    "sed do eiusmod tempor incididunt\n",
    "ut labore et dolore magna aliqua.\"\"\"\n",
    "\n",
    "print(c)\n"
   ]
  },
  {
   "cell_type": "markdown",
   "metadata": {},
   "source": [
    "### INDENTATION- whitespace at the beginning of a line to define scope in the code. "
   ]
  },
  {
   "cell_type": "markdown",
   "metadata": {},
   "source": [
    "# if-else"
   ]
  },
  {
   "cell_type": "code",
   "execution_count": null,
   "metadata": {},
   "outputs": [],
   "source": [
    "#VALUE IS POSITIVE/NEGATIVE/ZERO?\n",
    "a = int(input())\n",
    "if(a>0):\n",
    "    print(\"POSITIVE\")\n",
    "else:\n",
    "    print(\"NEGATIVE\")"
   ]
  },
  {
   "cell_type": "code",
   "execution_count": null,
   "metadata": {},
   "outputs": [],
   "source": [
    "#VALUE IS POSITIVE/NEGATIVE/ZERO?\n",
    "a = int(input())\n",
    "if (a>0):\n",
    "    print(\"POSITIVE\")\n",
    "elif (a<0): #else if\n",
    "    print(\"NEGATIVE\")\n",
    "else:\n",
    "    print(\"ZERO\")"
   ]
  },
  {
   "cell_type": "code",
   "execution_count": null,
   "metadata": {},
   "outputs": [],
   "source": [
    "a = int(input())\n",
    "if a > 0: print(\"POSITIVE\")\n",
    "elif (a<0): print(\"NEGATIVE\")\n",
    "else: print(\"ZERO\")"
   ]
  },
  {
   "cell_type": "markdown",
   "metadata": {},
   "source": [
    "### Write a program to find the maximum of 3 numbers while asking user for input"
   ]
  },
  {
   "cell_type": "code",
   "execution_count": null,
   "metadata": {},
   "outputs": [],
   "source": [
    "a=int(input())\n",
    "b=int(input())\n",
    "c=int(input())\n",
    "\n",
    "if(a>b) and (a>c):\n",
    "    print(\"A\")\n",
    "    print(a,\"is the greatest\")\n",
    "    \n",
    "elif(b>a) and (b>c):\n",
    "    print(\"B\")\n",
    "    print(b,\"is the greatest\")\n",
    "\n",
    "elif(c>a) and (c>a):\n",
    "    print(\"C\")\n",
    "    print(c,\"is the greatest\")\n",
    "\n",
    "else:\n",
    "    print(\"They are equal\")\n",
    "    "
   ]
  },
  {
   "cell_type": "markdown",
   "metadata": {},
   "source": [
    "### Write a program to find the if the input value is even or odd"
   ]
  },
  {
   "cell_type": "markdown",
   "metadata": {},
   "source": [
    "A school has following rules for grading system:\n",
    "\n",
    "a. Below 25 - F\n",
    "\n",
    "b. 25 to 45 - E\n",
    "\n",
    "c. 45 to 50 - D\n",
    "\n",
    "d. 50 to 60 - C\n",
    "\n",
    "e. 60 to 80 - B\n",
    "\n",
    "f. Above 80 - A\n",
    "\n",
    "Ask user to enter marks and print the corresponding grade."
   ]
  },
  {
   "cell_type": "code",
   "execution_count": null,
   "metadata": {
    "scrolled": true
   },
   "outputs": [],
   "source": [
    "marks = float(input())\n",
    "if (marks<25) and (marks>=0):\n",
    "    print (\"F\")\n",
    "elif marks>=25 and marks<45:\n",
    "    print (\"E\")\n",
    "elif marks>=45 and marks<50:\n",
    "    print (\"D\")\n",
    "elif marks>=50 and marks<60:\n",
    "    print (\"C\")\n",
    "elif marks>=60 and marks<80:\n",
    "    print (\"B\")\n",
    "elif(marks>=90 and marks<=100):\n",
    "    print (\"A\")\n",
    "else:\n",
    "    print(\"Enter valid number\")\n"
   ]
  },
  {
   "cell_type": "markdown",
   "metadata": {},
   "source": [
    "### PRINT 1-5"
   ]
  },
  {
   "cell_type": "markdown",
   "metadata": {},
   "source": [
    "### While loop"
   ]
  },
  {
   "cell_type": "code",
   "execution_count": null,
   "metadata": {},
   "outputs": [],
   "source": [
    "i = 2\n",
    "while i < 6:\n",
    "    print(i)\n",
    "    i += 1"
   ]
  },
  {
   "cell_type": "code",
   "execution_count": null,
   "metadata": {},
   "outputs": [],
   "source": [
    "i=5\n",
    "while (i<501):\n",
    "        print(i)\n",
    "        i=i+2"
   ]
  },
  {
   "cell_type": "markdown",
   "metadata": {},
   "source": [
    "## for loop - used for iterating over a sequence "
   ]
  },
  {
   "cell_type": "markdown",
   "metadata": {},
   "source": [
    "### range() Function"
   ]
  },
  {
   "cell_type": "code",
   "execution_count": null,
   "metadata": {},
   "outputs": [],
   "source": [
    "for x in range(6):\n",
    "    print(x)"
   ]
  },
  {
   "cell_type": "code",
   "execution_count": null,
   "metadata": {},
   "outputs": [],
   "source": [
    "for x in range(2, 6):\n",
    "    print(x)"
   ]
  },
  {
   "cell_type": "code",
   "execution_count": null,
   "metadata": {},
   "outputs": [],
   "source": [
    "for x in range(2, 30, 3):\n",
    "    print(x)"
   ]
  },
  {
   "cell_type": "code",
   "execution_count": null,
   "metadata": {},
   "outputs": [],
   "source": [
    "for x in \"Something\":\n",
    "    print(x)"
   ]
  },
  {
   "cell_type": "code",
   "execution_count": null,
   "metadata": {
    "scrolled": true
   },
   "outputs": [],
   "source": [
    "for x in range(0,6):\n",
    "    print(x)\n",
    "    if x == 3: \n",
    "        break"
   ]
  },
  {
   "cell_type": "code",
   "execution_count": null,
   "metadata": {},
   "outputs": [],
   "source": [
    "for x in range(0,6):\n",
    "    if x == 3: \n",
    "        continue\n",
    "    \n",
    "    print(x)"
   ]
  },
  {
   "cell_type": "code",
   "execution_count": null,
   "metadata": {},
   "outputs": [],
   "source": [
    "for x in range(11):\n",
    "    if (x==5):\n",
    "        continue\n",
    "    if(x==8):\n",
    "        break\n",
    "    print(x)"
   ]
  },
  {
   "cell_type": "markdown",
   "metadata": {},
   "source": [
    "Python has two primitive loop commands:\n",
    "\n",
    "> while loops (execute a set of statements as long as a condition is true)\n",
    "\n",
    ">for loops"
   ]
  },
  {
   "cell_type": "markdown",
   "metadata": {},
   "source": [
    "### You have to store the names and marks of 5 students\n",
    "\n",
    "There are 5 students: s1,s2,s3,s4,s5\n",
    "\n",
    "Their marks are: m1,m2,m3,m4,m5\n"
   ]
  },
  {
   "cell_type": "code",
   "execution_count": null,
   "metadata": {},
   "outputs": [],
   "source": [
    "s1=input(\"Enter name of student 1 \")\n",
    "m1=int(input(\"Enter marks of student 1 \"))\n",
    "\n",
    "s2=input(\"Enter name of student 2 \")\n",
    "m2=int(input(\"Enter marks of student 2 \"))\n",
    "\n",
    "s3=input(\"Enter name of student 3 \")\n",
    "m3=int(input(\"Enter marks of student 3 \"))\n",
    "\n",
    "s4=input(\"Enter name of student 4 \")\n",
    "m4=int(input(\"Enter marks of student 4 \"))\n",
    "\n",
    "s5=input(\"Enter name of student 5 \")\n",
    "m5=int(input(\"Enter marks of student 5 \"))"
   ]
  },
  {
   "cell_type": "markdown",
   "metadata": {},
   "source": [
    "Built-in data types - lists, sets, tuples, dictionaries"
   ]
  },
  {
   "cell_type": "markdown",
   "metadata": {},
   "source": [
    "### LISTS -  used to store multiple items in a single variable\n",
    "\n",
    "Syntax: List_name=[\"item1\",\"item2\"..]"
   ]
  },
  {
   "cell_type": "code",
   "execution_count": null,
   "metadata": {},
   "outputs": [],
   "source": [
    "Names=[\"a\",\"b\",\"c\",\"d\",\"e\"]\n",
    "Marks=[45,34,32,64,93]\n",
    "\n",
    "print(Names)\n",
    "print(Marks)"
   ]
  },
  {
   "cell_type": "code",
   "execution_count": null,
   "metadata": {},
   "outputs": [],
   "source": [
    "Names=[]\n",
    "Marks=[]\n",
    "\n",
    "n=int(input(\"Enter number of students\"))\n",
    "\n",
    "for i in range(0,n):\n",
    "    \n",
    "    print(\"Enter names of student\",i)\n",
    "    a=input()\n",
    "    \n",
    "    print(\"Enter marks of student\",i)\n",
    "    b=int(input(\"\"))\n",
    "    \n",
    "    Names.append(a)\n",
    "    Marks.append(b)\n",
    "    \n",
    "print(Names)\n",
    "print(Marks)"
   ]
  },
  {
   "cell_type": "markdown",
   "metadata": {},
   "source": [
    "1. Lists can be indexed like strings\n",
    "2. Can change/update their values\n",
    "3. Append adds new values to the end of list\n",
    "4. Lists allow duplicate values"
   ]
  },
  {
   "cell_type": "code",
   "execution_count": null,
   "metadata": {},
   "outputs": [],
   "source": [
    "#1\n",
    "print(Names[0])\n",
    "print(Names[0:2])\n",
    "\n",
    "print(Marks[1:5])\n",
    "print(Marks[-1])\n"
   ]
  },
  {
   "cell_type": "code",
   "execution_count": null,
   "metadata": {},
   "outputs": [],
   "source": [
    "#2\n",
    "print(Names)\n",
    "Names[0]=\"ABC\"\n",
    "print(Names)"
   ]
  },
  {
   "cell_type": "code",
   "execution_count": null,
   "metadata": {},
   "outputs": [],
   "source": [
    "#3\n",
    "print(Names)\n",
    "Names.append(\"XYZ\")\n",
    "print(Names)"
   ]
  },
  {
   "cell_type": "code",
   "execution_count": null,
   "metadata": {},
   "outputs": [],
   "source": [
    "#4\n",
    "print(Names)\n",
    "Names.append(\"XYZ\")\n",
    "Names[0]=\"XYZ\"\n",
    "print(Names)"
   ]
  },
  {
   "cell_type": "code",
   "execution_count": null,
   "metadata": {},
   "outputs": [],
   "source": [
    "print(len(Names))\n",
    "print(len(Marks))\n",
    "print(type(Names), type(Marks))"
   ]
  },
  {
   "cell_type": "code",
   "execution_count": null,
   "metadata": {},
   "outputs": [],
   "source": [
    "a = [\"a\", \"b\", \"c\"]\n",
    "b = [1, 5, 7, 9, 3]\n",
    "c = [True, True, False]\n",
    "print(a,b,c)"
   ]
  },
  {
   "cell_type": "markdown",
   "metadata": {},
   "source": [
    "## Can list contain data of different data types? YES!"
   ]
  },
  {
   "cell_type": "code",
   "execution_count": null,
   "metadata": {},
   "outputs": [],
   "source": [
    "a = [\"XYZ\", 2, False, 40, \"Nice\"]\n",
    "a"
   ]
  },
  {
   "cell_type": "code",
   "execution_count": null,
   "metadata": {},
   "outputs": [],
   "source": [
    "print(Names)\n",
    "Names.remove(\"XYZ\")\n",
    "print(Names)"
   ]
  },
  {
   "cell_type": "code",
   "execution_count": null,
   "metadata": {},
   "outputs": [],
   "source": [
    "print(Marks)\n",
    "Marks.remove(54)\n",
    "print(Marks)"
   ]
  },
  {
   "cell_type": "markdown",
   "metadata": {},
   "source": [
    "## A couple of questions\n",
    "\n",
    "http://pythontutor.com/"
   ]
  },
  {
   "cell_type": "code",
   "execution_count": null,
   "metadata": {},
   "outputs": [],
   "source": [
    "iteration = 0\n",
    "count = 0\n",
    "while iteration < 5:\n",
    "    for letter in \"hello, world\":\n",
    "        count += 1\n",
    "    print(\"Iteration \" + str(iteration) + \"; count is: \" + str(count))\n",
    "    iteration += 1 "
   ]
  },
  {
   "cell_type": "code",
   "execution_count": null,
   "metadata": {
    "scrolled": false
   },
   "outputs": [],
   "source": [
    "for iteration in range(5):\n",
    "    count = 0\n",
    "    while True:\n",
    "        for letter in \"hello, world\":\n",
    "            count += 1\n",
    "        print(\"Iteration \" + str(iteration) + \"; count is: \" + str(count))\n",
    "        break"
   ]
  },
  {
   "cell_type": "code",
   "execution_count": null,
   "metadata": {},
   "outputs": [],
   "source": [
    "a=10\n",
    "print(type(str(a)))\n",
    "print(type(a))\n",
    "\n",
    "print(\"Printing\",a)\n",
    "print(\"Printing\"+str(a))\n",
    "print(\"Printing\",str(a))"
   ]
  },
  {
   "cell_type": "markdown",
   "metadata": {},
   "source": [
    "1. Define a boolean list and display it\n",
    "2. Ask the user to input an index i and a val which is either 0 or 1\n",
    "3. If the user inputs 0, at the index i, change the value to false\n",
    "4. If the user inputs 1, at the index i, change the value to true\n",
    "5. Display the list"
   ]
  },
  {
   "cell_type": "code",
   "execution_count": null,
   "metadata": {
    "scrolled": true
   },
   "outputs": [],
   "source": [
    "B=[True,False,False,True]\n",
    "print(B)\n",
    "\n",
    "i=int(input(\"Enter index \"))\n",
    "val=int(input(\"Enter 0/1 \"))\n",
    "\n",
    "if (val==0):\n",
    "    B[i]=False\n",
    "elif (val==1):\n",
    "    B[i]=True\n",
    "else:\n",
    "    print(\"Enter valid input \")\n",
    "print(B)"
   ]
  },
  {
   "cell_type": "markdown",
   "metadata": {},
   "source": [
    "## TUPLES- Same as lists but they are unchangeable"
   ]
  },
  {
   "cell_type": "code",
   "execution_count": null,
   "metadata": {},
   "outputs": [],
   "source": [
    "Names=(\"a\",\"b\",\"c\",\"d\",\"e\")\n",
    "Marks=(45,34,32,64,93)\n",
    "\n",
    "print(Names)\n",
    "print(Marks)"
   ]
  },
  {
   "cell_type": "code",
   "execution_count": null,
   "metadata": {},
   "outputs": [],
   "source": [
    "a = (\"xyz\",)\n",
    "print(type(a))\n",
    "\n",
    "b = (\"abc\")\n",
    "print(type(b))\n"
   ]
  },
  {
   "cell_type": "code",
   "execution_count": null,
   "metadata": {},
   "outputs": [],
   "source": [
    "print(Names[0])\n",
    "print(Names[0:2])\n",
    "\n",
    "print(Marks[1:5])\n",
    "print(Marks[-1])\n"
   ]
  },
  {
   "cell_type": "code",
   "execution_count": null,
   "metadata": {},
   "outputs": [],
   "source": [
    "print(Names)\n",
    "Names[0]=\"ABC\"\n",
    "print(Names)"
   ]
  },
  {
   "cell_type": "code",
   "execution_count": null,
   "metadata": {},
   "outputs": [],
   "source": [
    "print(len(Names))\n",
    "print(len(Marks))\n",
    "print(type(Names), type(Marks))"
   ]
  },
  {
   "cell_type": "code",
   "execution_count": null,
   "metadata": {},
   "outputs": [],
   "source": [
    "a = (\"a\", \"b\", \"c\")\n",
    "b = (1, 5, 7, 9, 3)\n",
    "c = (True, True, False)\n",
    "d = (\"XYZ\", 2, False, 40, \"Nice\")\n",
    "\n",
    "print(a,b,c,d)"
   ]
  },
  {
   "cell_type": "markdown",
   "metadata": {},
   "source": [
    "#### Convert the tuple into a list to be able to change it"
   ]
  },
  {
   "cell_type": "markdown",
   "metadata": {},
   "source": [
    "## SETS"
   ]
  },
  {
   "cell_type": "code",
   "execution_count": null,
   "metadata": {},
   "outputs": [],
   "source": [
    "Set1 = {\"a\", \"b\", \"c\",\"c\",\"c\"}\n",
    "print(Set1)\n",
    "print(len(Set1))"
   ]
  },
  {
   "cell_type": "code",
   "execution_count": null,
   "metadata": {},
   "outputs": [],
   "source": [
    "Set2 = {\"a\", 4, True, 4.2, \"B\"}\n",
    "print(type(Set2))\n",
    "Set2"
   ]
  },
  {
   "cell_type": "code",
   "execution_count": null,
   "metadata": {},
   "outputs": [],
   "source": [
    "for i in Set2:\n",
    "    print(i)"
   ]
  },
  {
   "cell_type": "code",
   "execution_count": null,
   "metadata": {},
   "outputs": [],
   "source": [
    "Set2.add(5.2)\n",
    "\n",
    "print(Set2)"
   ]
  },
  {
   "cell_type": "code",
   "execution_count": null,
   "metadata": {},
   "outputs": [],
   "source": [
    "Set1.update(Set2)\n",
    "\n",
    "print(Set1)"
   ]
  },
  {
   "cell_type": "code",
   "execution_count": null,
   "metadata": {},
   "outputs": [],
   "source": [
    "Set1"
   ]
  },
  {
   "cell_type": "code",
   "execution_count": null,
   "metadata": {},
   "outputs": [],
   "source": [
    "Set1.remove(\"a\")\n",
    "print(Set1)"
   ]
  },
  {
   "cell_type": "code",
   "execution_count": null,
   "metadata": {},
   "outputs": [],
   "source": [
    "Set1.remove(\"z\")\n",
    "print(Set1)"
   ]
  },
  {
   "cell_type": "code",
   "execution_count": null,
   "metadata": {},
   "outputs": [],
   "source": [
    "Set1.discard(\"z\")\n",
    "print(Set1)"
   ]
  },
  {
   "cell_type": "markdown",
   "metadata": {},
   "source": [
    "#### DICTIONARIES:  key:value pairs"
   ]
  },
  {
   "cell_type": "code",
   "execution_count": null,
   "metadata": {},
   "outputs": [],
   "source": [
    "Dict1 = {\n",
    "  \"a\": 1,\n",
    "  \"b\": 2,\n",
    "  \"c\": 3\n",
    "}\n",
    "Dict1"
   ]
  },
  {
   "cell_type": "code",
   "execution_count": null,
   "metadata": {},
   "outputs": [],
   "source": [
    "print(Dict1[\"b\"])"
   ]
  },
  {
   "cell_type": "code",
   "execution_count": null,
   "metadata": {},
   "outputs": [],
   "source": [
    "print(Dict1[\"a\"])"
   ]
  },
  {
   "cell_type": "code",
   "execution_count": null,
   "metadata": {},
   "outputs": [],
   "source": [
    "Dict2 = {\n",
    "  \"a\": 1,\n",
    "  \"b\": 2,\n",
    "  \"c\": 3,\n",
    "    \"d\":3\n",
    "}\n",
    "Dict2"
   ]
  },
  {
   "cell_type": "code",
   "execution_count": null,
   "metadata": {},
   "outputs": [],
   "source": [
    "Dict3 = {\n",
    "  \"a\": 1,\n",
    "  \"b\": 2,\n",
    "  \"c\": 3,\n",
    "    \"c\":4\n",
    "}\n",
    "Dict3"
   ]
  },
  {
   "cell_type": "code",
   "execution_count": null,
   "metadata": {},
   "outputs": [],
   "source": [
    "print(len(Dict2))\n",
    "print(len(Dict3))"
   ]
  },
  {
   "cell_type": "markdown",
   "metadata": {},
   "source": [
    "## Write a program to find the volume of a sphere\n",
    "Store the values in a list"
   ]
  },
  {
   "cell_type": "code",
   "execution_count": null,
   "metadata": {},
   "outputs": [],
   "source": [
    "pi = 3.1415926535897931\n",
    "r= int(input())\n",
    "V= 4.0/3.0*pi* r**3\n",
    "Vol=[]\n",
    "Vol.append(V)\n",
    "print(V,Vol)"
   ]
  },
  {
   "cell_type": "markdown",
   "metadata": {},
   "source": [
    "## Take input until 42 is inputed"
   ]
  },
  {
   "cell_type": "code",
   "execution_count": null,
   "metadata": {
    "scrolled": true
   },
   "outputs": [],
   "source": [
    "i=0\n",
    "while i!=42: i=int(input(\"Enter\"))"
   ]
  },
  {
   "cell_type": "code",
   "execution_count": null,
   "metadata": {},
   "outputs": [],
   "source": [
    "s=int(input(\"Enter Input:\"))\n",
    "while(s!=32):\n",
    "    s=int(input(\"Enter Input:\"))"
   ]
  },
  {
   "cell_type": "markdown",
   "metadata": {},
   "source": [
    "### Count the number 4 in a given list"
   ]
  },
  {
   "cell_type": "code",
   "execution_count": null,
   "metadata": {},
   "outputs": [],
   "source": [
    "count = 0 \n",
    "nums=[2,4,53,6,466,9,4]\n",
    "for num in nums:\n",
    "    if num == 4:\n",
    "        count = count + 1\n",
    "print(count)"
   ]
  },
  {
   "cell_type": "code",
   "execution_count": null,
   "metadata": {},
   "outputs": [],
   "source": [
    "#42 91 68\n",
    "#GAME - WORKS\n",
    "x=int(input(\"Please think of a number between 0 and 100!\"))\n",
    "low=0\n",
    "high=100\n",
    "while(True):\n",
    "    mid=(low+high)//2\n",
    "    print('Is your secret number '+str(mid)+'?')\n",
    "    w=input(\"Enter 'h' to indicate the guess is too high. Enter 'l' to indicate the guess is too low. Enter 'c' to indicate I guessed correctly. \")    \n",
    "    if w =='h':\n",
    "        high=mid\n",
    "    elif w =='l':\n",
    "        low=mid\n",
    "    elif w=='c':\n",
    "        print('Game over. Your secret number was: '+str(mid))\n",
    "        break\n",
    "    else:\n",
    "        print(\"Sorry, I did not understand your input.\")"
   ]
  },
  {
   "cell_type": "markdown",
   "metadata": {},
   "source": [
    "### FUNCTIONS"
   ]
  },
  {
   "cell_type": "code",
   "execution_count": null,
   "metadata": {},
   "outputs": [],
   "source": [
    "#def is a keyword\n",
    "#is_even is the name of the function\n",
    "#i is the parameter or argument\n",
    "# Text in \"\"\"\"\"\" is the DOCSTRING or the specification of the function\n",
    "\n",
    "def is_even(i):\n",
    "    \n",
    "    '''\n",
    "    Input: i is a positive int\n",
    "    Returns True if is even otherwise False\n",
    "    '''\n",
    "    \n",
    "    print(\"You wanna know??? \", i) #BODY OF FUNCTION\n",
    "    return (i%2==0)\n",
    "\n",
    "print(is_even(56))\n",
    "is_even(53)\n",
    "\n",
    "#56 AND 53 ARE ARGUMENTS\n",
    "#I IS THE FUNCTION PARAMETER\n",
    "\n",
    "#Parameter - name of the variables defined in the function signature and that we use in the function's body. When we work inside a function, we work with parameters.\n",
    "\n",
    "#Argument - value or values that we call the function with, so it is the value being passed into a function call."
   ]
  },
  {
   "cell_type": "code",
   "execution_count": null,
   "metadata": {},
   "outputs": [],
   "source": [
    "def sum(a,b):\n",
    "    s=a+b\n",
    "    return s\n",
    "\n",
    "a=int(input())\n",
    "b=int(input())\n",
    "print(sum(a,b))"
   ]
  },
  {
   "cell_type": "markdown",
   "metadata": {},
   "source": [
    " 1. Unique elements from a list\n",
    " 2. Function to find square of a number"
   ]
  },
  {
   "cell_type": "code",
   "execution_count": null,
   "metadata": {
    "scrolled": true
   },
   "outputs": [],
   "source": [
    "def Unique_L(l):\n",
    "    L2 = []\n",
    "    for i in l:\n",
    "        if i not in L2:\n",
    "            L2.append(i)\n",
    "    return L2\n",
    "\n",
    "n=int(input(\"Enter number of elements\"))\n",
    "L1=[]\n",
    "for i in range(0,n):\n",
    "    a=input()\n",
    "    L1.append(a)\n",
    "    \n",
    "Unique_L(L1)\n"
   ]
  },
  {
   "cell_type": "code",
   "execution_count": null,
   "metadata": {},
   "outputs": [],
   "source": [
    "def Unique_L(List1):\n",
    "    s1=set(L1)\n",
    "    l=list(s1)\n",
    "    return l\n",
    "\n",
    "n=int(input(\"Enter number of elements\"))\n",
    "L1=[]\n",
    "for i in range(0,n):\n",
    "    a=input()\n",
    "    L1.append(a)\n",
    "    \n",
    "Unique_L(L1)\n"
   ]
  },
  {
   "cell_type": "code",
   "execution_count": null,
   "metadata": {},
   "outputs": [],
   "source": [
    "L1=[3,2,5,6,6,4]\n",
    "s1=set(L1)\n",
    "l=list(s1)\n",
    "print(s1,L1,l)"
   ]
  },
  {
   "cell_type": "code",
   "execution_count": null,
   "metadata": {},
   "outputs": [],
   "source": [
    "adj = [\"red\", \"big\", \"tasty\"]\n",
    "fruits = [\"apple\", \"banana\", \"cherry\"]\n",
    "\n",
    "for i in adj:\n",
    "    for j in fruits:\n",
    "        print(i, j)\n"
   ]
  },
  {
   "cell_type": "markdown",
   "metadata": {},
   "source": [
    "The outer loop to print the number of rows.\n",
    "The inner loops to print the number of columns."
   ]
  },
  {
   "cell_type": "code",
   "execution_count": null,
   "metadata": {},
   "outputs": [],
   "source": [
    "n = int(input(\"Enter the number of rows\")) \n",
    "for i in range(0, n):  \n",
    "        for j in range(0, i + 1):  \n",
    "            print(\"* \", end=\"\")       \n",
    "  \n",
    "        print()  "
   ]
  },
  {
   "cell_type": "code",
   "execution_count": null,
   "metadata": {},
   "outputs": [],
   "source": [
    "def is_even(a,i):\n",
    "    \n",
    "    print(\"You wanna know??? \", a) #BODY OF FUNCTION\n",
    "    return (i%2==0), 2 , i<55\n",
    "    print(\"jfs\") #will not be executed after return statement\n",
    "\n",
    "print(is_even(\"john\",56))\n",
    "is_even(\"san\",53)"
   ]
  },
  {
   "cell_type": "code",
   "execution_count": null,
   "metadata": {},
   "outputs": [],
   "source": [
    "def f_a():\n",
    "    print('This function does not have any parameter list')\n",
    "def f_b(y):\n",
    "    print('This function does have one parameter')\n",
    "    return y\n",
    "print(f_a())\n",
    "print(5+f_b(2))"
   ]
  },
  {
   "cell_type": "markdown",
   "metadata": {},
   "source": [
    "#### We can access a variable defined outside but can't modify its value"
   ]
  },
  {
   "cell_type": "code",
   "execution_count": null,
   "metadata": {},
   "outputs": [],
   "source": [
    "def f(y):\n",
    "    x=1 #since we defined x here, this is like a new object \n",
    "    x+=1\n",
    "    print(x)\n",
    "x=5\n",
    "f(x)\n",
    "print(x)"
   ]
  },
  {
   "cell_type": "code",
   "execution_count": null,
   "metadata": {},
   "outputs": [],
   "source": [
    "def g(y):\n",
    "    print(x,end=' ')\n",
    "    print(x+1,end=' ')\n",
    "x=5\n",
    "g(x)\n",
    "print(x)"
   ]
  },
  {
   "cell_type": "markdown",
   "metadata": {},
   "source": [
    "A parameter is the variable listed inside the parentheses in the function definition.\n",
    "\n",
    "An argument is the value that is sent to the function when it is called.\n",
    "\n"
   ]
  },
  {
   "cell_type": "code",
   "execution_count": null,
   "metadata": {
    "scrolled": true
   },
   "outputs": [],
   "source": [
    "def FNAME(a, b):\n",
    "    print(a + \" \" + b)\n",
    "\n",
    "FNAME(\"Hey\")"
   ]
  },
  {
   "cell_type": "code",
   "execution_count": null,
   "metadata": {},
   "outputs": [],
   "source": [
    "def FNAME(a, b):\n",
    "    print(a + \" \" + b)\n",
    "\n",
    "FNAME(\"Hey\",\"trh\",\"fghd\")"
   ]
  },
  {
   "cell_type": "markdown",
   "metadata": {},
   "source": [
    "### Arbitrary Arguments or *args\n",
    "This way the function will receive a tuple of arguments"
   ]
  },
  {
   "cell_type": "code",
   "execution_count": null,
   "metadata": {},
   "outputs": [],
   "source": [
    "def FNAME(*a):\n",
    "    print(a[1])\n",
    "\n",
    "FNAME(\"Hey\",\"trh\",\"fghd\")"
   ]
  },
  {
   "cell_type": "markdown",
   "metadata": {},
   "source": [
    "key = value syntax so that order of the arguments does not matter."
   ]
  },
  {
   "cell_type": "code",
   "execution_count": null,
   "metadata": {},
   "outputs": [],
   "source": [
    "def FNAME(a, b, c):\n",
    "    print(c)\n",
    "\n",
    "FNAME(a = \"Hey\", b = \"gfe\", c = \"sgv\")\n"
   ]
  },
  {
   "cell_type": "code",
   "execution_count": null,
   "metadata": {},
   "outputs": [],
   "source": [
    "def FNAME(Food = \"a\"):\n",
    "  print(\"I like \" + Food)\n",
    "\n",
    "FNAME(\"b\")\n",
    "FNAME(\"c\")\n",
    "FNAME()\n",
    "FNAME(\"d\")\n"
   ]
  },
  {
   "cell_type": "markdown",
   "metadata": {},
   "source": [
    "Passing a List as an Argument"
   ]
  },
  {
   "cell_type": "code",
   "execution_count": null,
   "metadata": {},
   "outputs": [],
   "source": [
    "def FNAME(a):\n",
    "    for i in a:\n",
    "        print(i)\n",
    "\n",
    "a = [\"x\", \"y\", \"z\"]\n",
    "\n",
    "FNAME(a)\n"
   ]
  },
  {
   "cell_type": "code",
   "execution_count": null,
   "metadata": {},
   "outputs": [],
   "source": [
    "def FNAME(x):\n",
    "    return 5 * x\n",
    "\n",
    "print(FNAME(32))\n",
    "print(FNAME(24))\n",
    "print(FNAME(3))\n"
   ]
  },
  {
   "cell_type": "markdown",
   "metadata": {},
   "source": [
    "Empty function"
   ]
  },
  {
   "cell_type": "code",
   "execution_count": null,
   "metadata": {},
   "outputs": [],
   "source": [
    "def FNAME():\n",
    "    pass"
   ]
  },
  {
   "cell_type": "code",
   "execution_count": null,
   "metadata": {},
   "outputs": [],
   "source": [
    "s=\"This is a sentence\"\n",
    "l=s.split(\" \")\n",
    "l,type(l)"
   ]
  },
  {
   "cell_type": "code",
   "execution_count": null,
   "metadata": {},
   "outputs": [],
   "source": [
    "data=\"This is a sentence\"\n",
    "s=data.lower()\n",
    "l=s.split(\" \")\n",
    "l"
   ]
  }
 ],
 "metadata": {
  "kernelspec": {
   "display_name": "Python 3",
   "language": "python",
   "name": "python3"
  },
  "language_info": {
   "codemirror_mode": {
    "name": "ipython",
    "version": 3
   },
   "file_extension": ".py",
   "mimetype": "text/x-python",
   "name": "python",
   "nbconvert_exporter": "python",
   "pygments_lexer": "ipython3",
   "version": "3.8.5"
  }
 },
 "nbformat": 4,
 "nbformat_minor": 4
}
